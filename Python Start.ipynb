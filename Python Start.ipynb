{
 "cells": [
  {
   "cell_type": "markdown",
   "metadata": {},
   "source": [
    "### Tasks to do in Python for Data Analysis:"
   ]
  },
  {
   "cell_type": "markdown",
   "metadata": {},
   "source": [
    "**Interacting with the outside world** \n",
    "\n",
    "Reading and writing with a variety of file formats and data stores.\n",
    "\n",
    "**Preparation** \n",
    "\n",
    "Cleaning, munging, combining, normalizing, reshaping, slicing and dicing, and tansforming data for analysis. \n",
    "\n",
    "**Transformation** \n",
    "\n",
    "Applying mathematical and statistical operations to group of dataseta to derive new datasets (e.g. Group by)\n",
    "\n",
    "**Modeling and computation**\n",
    "\n",
    "Stats models, ML algos, etc.\n",
    "\n",
    "**Presentation** \n",
    "\n",
    "Interactive/ Static Graphic Visualizaions or textual summaries."
   ]
  },
  {
   "cell_type": "markdown",
   "metadata": {},
   "source": [
    "###  Why IPython Jupyter Notebook?"
   ]
  },
  {
   "cell_type": "markdown",
   "metadata": {},
   "source": [
    "Execute-Explore workbook"
   ]
  },
  {
   "cell_type": "markdown",
   "metadata": {},
   "source": [
    "### Shortcuts in Jupyter Notebook "
   ]
  },
  {
   "cell_type": "markdown",
   "metadata": {},
   "source": [
    "Two modes in Jupyter: *Command Mode* (BLUE) and *Edit Mode* (GREEN)\n",
    "\n",
    "***Shortcut in Both Modes:***\n",
    "\n",
    "*Ctrl + Enter*: Run the current cell.  \n",
    "\n",
    "*Alt + Enter*: Run the current cell and insert a cell below.\n",
    "\n",
    "*Shift + Enter*: Run the current cell and select below.\n",
    "\n",
    "*Ctrl + S*: Save and checkpoint.\n",
    "\n",
    "***While in command mode*** (press **Esc** to activate):\n",
    "\n",
    "*Enter*: take you into edit mode\n",
    "\n",
    "*H show all shortcuts*\n",
    "\n",
    "***While in edit mode*** (press *Enter* to activate)\n",
    "\n",
    "*Esc*: take you into command mode\n",
    "\n",
    "*Tab*: code completion or indent\n"
   ]
  },
  {
   "cell_type": "markdown",
   "metadata": {},
   "source": [
    "### Jupyter Basics:"
   ]
  },
  {
   "cell_type": "code",
   "execution_count": 1,
   "metadata": {},
   "outputs": [
    {
     "data": {
      "text/plain": [
       "[6, 2]"
      ]
     },
     "execution_count": 1,
     "metadata": {},
     "output_type": "execute_result"
    }
   ],
   "source": [
    "an_apple=[6,2]\n",
    "\n",
    "#Tab completion:"
   ]
  },
  {
   "cell_type": "code",
   "execution_count": null,
   "metadata": {},
   "outputs": [],
   "source": [
    "#Object Introspection: ? after a variable \n",
    "an_apple?"
   ]
  },
  {
   "cell_type": "code",
   "execution_count": 9,
   "metadata": {},
   "outputs": [],
   "source": [
    "# ? before a function shows docstring\n",
    "\n",
    "type?\n",
    "\n",
    "# ? also has another usage. It an be used to search.\n",
    "# ?? before a function shows source code"
   ]
  },
  {
   "cell_type": "code",
   "execution_count": 11,
   "metadata": {},
   "outputs": [],
   "source": [
    "# MAGIC COMMANDS\n",
    "%magic\n",
    "## %matplotlib inline"
   ]
  },
  {
   "cell_type": "markdown",
   "metadata": {},
   "source": [
    "###  Python Language Basics:"
   ]
  },
  {
   "cell_type": "markdown",
   "metadata": {},
   "source": [
    "**LANGUAGE SEMANTICS**\n",
    "\n",
    "***Indentation, not braces***\n",
    "\n",
    "    for x in array:\n",
    "        if x < 3:\n",
    "            x++\n",
    "\n",
    "colon denotes start of an indentation.\n",
    "\n",
    "IF you want to write multiple statements in a single line: use semicolon(;)\n",
    "\n",
    "***Everything is an object***\n",
    "\n",
    "String, data structures, function, class, modules, etc exists in Python in its own ***box*** (Python object).\n",
    "Each object has an associated *type* and *internal data*.\n",
    "\n",
    "***Comments***\n",
    "\n",
    "Any sign preceded by pound sign (#) is ignored and it's can be used to add comments to a code.\n",
    "Good practice. Sometimes when in production phase, you don't want to delete a code, just comment that out.\n",
    "\n",
    "***Function and object method  calls***\n",
    "\n",
    "Call a function using parantheses () (optional: Pass arguments inside it)\n",
    "\n",
    "    result= f(x,y,z)\n",
    "    rocks()\n",
    "    \n",
    "Almost every object in python has functions attached to it, known as ***methods***, that have access to the object's internal contents.\n",
    "\n",
    "    obj.some_method(x,y,z)\n",
    "\n",
    "Functions can take both *positonal* and *keyword* arguments...\n",
    "\n",
    "***Variables and argument passing***\n",
    "\n",
    "When create a variable, you are creating a reference to an object on the RHS. \n",
    "\n",
    "Assignment is also called a binding.\n",
    "\n",
    "deep copy, shallow copy\n",
    "scope\n",
    "\n",
    "***Dynamic referencing, strong types***\n",
    "\n",
    "Every object has a specific type. \n",
    "\n",
    "    a=5\n",
    "    isinstance(a, int)\n",
    "    \n",
    "***Attributes and methods***\n",
    "\n",
    "Attributes: Python objects stored inside the object.\n",
    "\n",
    "Methods: Functions associated with that objects that can have access to the object's internal data.\n",
    "\n",
    "    a=5\n",
    "    a.Press Tab\n",
    "    \n",
    "***Duck Typing***\n",
    "\n",
    "***Imports***\n",
    "\n",
    "A module is simply a file contain Python code having .py extension.\n",
    "\n",
    "***Comparisons***\n",
    "\n",
    "If you want to see if two variables refer to the same object, use ***is*** \n",
    "\n",
    "     a is b\n",
    "\n",
    "If it is then it will be *True* else *False*\n",
    "\n",
    "Or you use ***is not***\n",
    "\n",
    "***Mutable/Immutable***\n",
    "\n",
    "\n",
    "***SCALAR TYPES***\n",
    "\n",
    "str, bytes, float, bool, int\n",
    "\n",
    "***CONTROL FLOW***\n",
    "\n",
    "if, elif and else\n",
    "for loops\n",
    "while loops\n",
    "pass\n",
    "range\n",
    "ternary expressions"
   ]
  },
  {
   "cell_type": "markdown",
   "metadata": {},
   "source": [
    "### What libraries are essential for Data Analysis in Python? "
   ]
  },
  {
   "cell_type": "markdown",
   "metadata": {},
   "source": [
    "**NumPy**: Num data; efficient processing for storing & manipulating data than the other built-in data structres. \n",
    "           How? high performance multidimensional array object, ndarray. Provides container to be passed b/w algorithms and \n",
    "           libraries. MATRIX"
   ]
  },
  {
   "cell_type": "code",
   "execution_count": null,
   "metadata": {},
   "outputs": [],
   "source": [
    "import numpy"
   ]
  },
  {
   "cell_type": "code",
   "execution_count": null,
   "metadata": {},
   "outputs": [],
   "source": [
    "numpy?"
   ]
  },
  {
   "cell_type": "markdown",
   "metadata": {},
   "source": [
    "**pandas**: working with structured data fast, easy and expressive.\n",
    "            How? provides high-level data structures (DataFrames, Series)\n",
    "            Flexible data manipulation, preparation and cleaning (Like SQL)"
   ]
  },
  {
   "cell_type": "code",
   "execution_count": null,
   "metadata": {},
   "outputs": [],
   "source": [
    "import pandas as pd"
   ]
  },
  {
   "cell_type": "code",
   "execution_count": null,
   "metadata": {},
   "outputs": [],
   "source": [
    "# ? explains\n",
    "pd?"
   ]
  },
  {
   "cell_type": "code",
   "execution_count": null,
   "metadata": {},
   "outputs": [],
   "source": [
    "# ? used to search...\n",
    "pd.*as*?"
   ]
  },
  {
   "cell_type": "markdown",
   "metadata": {},
   "source": [
    "\n",
    "**matplotlib**: plots and 2-d data visualisations.\n",
    "\n",
    "**SciPy**: scientific computing. integration, linear algebra, optimzers, matrices, probability functions.\n",
    "\n",
    "**scikit-learn**: ML: classification, regression, clustering, dimensionality reduction, model selection, preprocessing, etc.\n",
    "              Prediction-Focused.\n",
    "\n",
    "**statsmodel**: regression models, ANOVA, Time Series analysis, Non-parametric methods. Provides uncertainity estimates and p-\n",
    "            values for parameters. Statistical-Inference focused."
   ]
  },
  {
   "cell_type": "code",
   "execution_count": null,
   "metadata": {},
   "outputs": [],
   "source": []
  }
 ],
 "metadata": {
  "kernelspec": {
   "display_name": "Python 2",
   "language": "python",
   "name": "python2"
  },
  "language_info": {
   "codemirror_mode": {
    "name": "ipython",
    "version": 2
   },
   "file_extension": ".py",
   "mimetype": "text/x-python",
   "name": "python",
   "nbconvert_exporter": "python",
   "pygments_lexer": "ipython2",
   "version": "2.7.16"
  }
 },
 "nbformat": 4,
 "nbformat_minor": 2
}
